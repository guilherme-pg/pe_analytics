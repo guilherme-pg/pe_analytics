{
 "cells": [
  {
   "cell_type": "markdown",
   "metadata": {},
   "source": [
    "# Analysis of Electoral Performance in Municipal Elections in the Metropolitan Region of Recife between 2008 and 2020"
   ]
  },
  {
   "cell_type": "markdown",
   "metadata": {},
   "source": [
    "## Environment Settings"
   ]
  },
  {
   "cell_type": "code",
   "execution_count": 1,
   "metadata": {},
   "outputs": [],
   "source": [
    "# Imports\n",
    "import pandas as pd;\n",
    "import matplotlib.pyplot as plt;"
   ]
  },
  {
   "cell_type": "code",
   "execution_count": 3,
   "metadata": {},
   "outputs": [],
   "source": [
    "# Config PySpark\n",
    "from pyspark.sql import SparkSession;"
   ]
  },
  {
   "cell_type": "code",
   "execution_count": 4,
   "metadata": {},
   "outputs": [],
   "source": [
    "# Creating a SparkSession\n",
    "spark = SparkSession.builder \\\n",
    "    .appName(\"LoadElectionData\") \\\n",
    "    .getOrCreate()"
   ]
  },
  {
   "cell_type": "markdown",
   "metadata": {},
   "source": [
    "Fontes:\n",
    "* https://dadosabertos.tse.jus.br/dataset/resultados-2020/resource/977f5f4a-8d03-4b3d-aaa5-00001b996f02"
   ]
  },
  {
   "cell_type": "markdown",
   "metadata": {},
   "source": [
    "## Data Transformation"
   ]
  },
  {
   "cell_type": "code",
   "execution_count": null,
   "metadata": {},
   "outputs": [],
   "source": [
    "# LOAD datasets\n",
    "df_2008 = spark.read.csv('votacao_secao_2008_PE.csv', encoding='latin1', sep=';', header=True, inferSchema=True)\n",
    "df_2012 = spark.read.csv('votacao_secao_2012_PE.csv', encoding='latin1', sep=';', header=True, inferSchema=True)\n",
    "df_2016 = spark.read.csv('votacao_secao_2016_PE.csv', encoding='latin1', sep=';', header=True, inferSchema=True)\n",
    "df_2020 = spark.read.csv('votacao_secao_2020_PE.csv', encoding='latin1', sep=';', header=True, inferSchema=True)"
   ]
  },
  {
   "cell_type": "code",
   "execution_count": null,
   "metadata": {},
   "outputs": [],
   "source": [
    "# TO IMPROVE THE LOAD SYSTEM ------------ se sobrar tempo\n",
    "# datasets = ['votacao_secao_2008_PE.csv', 'votacao_secao_2012_PE.csv', 'votacao_secao_2016_PE.csv', 'votacao_secao_2020_PE.csv']\n",
    "# for data in datasets:\n",
    "#     df = spark.read.csv(f\"{data}\", encoding='latin1', sep=';', header=True, inferSchema=True)\n",
    "#     rmr_df = df['']\n",
    "# load dataset\n",
    "# select only the RMR cities\n",
    "# ..."
   ]
  },
  {
   "cell_type": "code",
   "execution_count": null,
   "metadata": {},
   "outputs": [],
   "source": [
    "# Região Metropolitana\n",
    "rmr = ['Abreu e Lima', 'Araçoiaba', 'Cabo de Santo Agostinho', 'Camaragibe', 'Igarassu',\n",
    "              'Ilha de Itamaracá', 'Ipojuca', 'Itapissuma', 'Jaboatão dos Guararapes', 'Moreno',\n",
    "              'Olinda', 'Paulista', 'Recife', 'São Lourenço da Mata'];"
   ]
  },
  {
   "cell_type": "markdown",
   "metadata": {},
   "source": [
    "## Questions"
   ]
  },
  {
   "cell_type": "code",
   "execution_count": null,
   "metadata": {},
   "outputs": [],
   "source": [
    "# brancos e nulos entre 2008 e 2020\n",
    "# vereadores mais votados em cada eleição entre 2008 e 2020\n",
    "# vereadores mais votados entre 2008 e 2020\n",
    "# distribuição da porcentagem de votos entre municípios da RMR\n",
    "# desempenho partidário para verdeadores (linhas)\n",
    "# votação por partido?"
   ]
  },
  {
   "cell_type": "markdown",
   "metadata": {},
   "source": [
    "## Visualization"
   ]
  },
  {
   "cell_type": "code",
   "execution_count": null,
   "metadata": {},
   "outputs": [],
   "source": []
  }
 ],
 "metadata": {
  "kernelspec": {
   "display_name": "pe_analytics",
   "language": "python",
   "name": "python3"
  },
  "language_info": {
   "codemirror_mode": {
    "name": "ipython",
    "version": 3
   },
   "file_extension": ".py",
   "mimetype": "text/x-python",
   "name": "python",
   "nbconvert_exporter": "python",
   "pygments_lexer": "ipython3",
   "version": "3.8.19"
  }
 },
 "nbformat": 4,
 "nbformat_minor": 2
}
