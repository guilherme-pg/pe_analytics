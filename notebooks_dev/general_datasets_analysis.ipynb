{
 "cells": [
  {
   "cell_type": "markdown",
   "metadata": {},
   "source": [
    "# Analysis of Electoral Performance in Municipal Elections in the Metropolitan Region of Recife between 2008 and 2020"
   ]
  },
  {
   "cell_type": "markdown",
   "metadata": {},
   "source": [
    "## Environment Settings"
   ]
  },
  {
   "cell_type": "code",
   "execution_count": 2,
   "metadata": {},
   "outputs": [],
   "source": [
    "# Imports\n",
    "import pandas as pd;\n",
    "import matplotlib.pyplot as plt;"
   ]
  },
  {
   "cell_type": "code",
   "execution_count": 3,
   "metadata": {},
   "outputs": [],
   "source": [
    "# Config PySpark\n",
    "import os\n",
    "import sys\n",
    "from pyspark.sql import SparkSession\n",
    "\n",
    "os.environ['PYSPARK_PYTHON'] = sys.executable\n",
    "os.environ['PYSPARK_DRIVER_PYTHON'] = sys.executable\n",
    "spark = SparkSession.builder.getOrCreate()"
   ]
  },
  {
   "cell_type": "code",
   "execution_count": 4,
   "metadata": {},
   "outputs": [],
   "source": [
    "# Creating a SparkSession\n",
    "spark = SparkSession.builder.appName(\"LoadElectionData\").getOrCreate();"
   ]
  },
  {
   "cell_type": "markdown",
   "metadata": {},
   "source": [
    "## Datasets"
   ]
  },
  {
   "cell_type": "markdown",
   "metadata": {},
   "source": [
    "Fontes:\n",
    "* https://dadosabertos.tse.jus.br/dataset/resultados-2020/resource/977f5f4a-8d03-4b3d-aaa5-00001b996f02\n",
    "\n",
    "2016:\n",
    "* https://cdn.tse.jus.br/estatistica/sead/odsele/votacao_secao/votacao_secao_2016_PE.zip\n",
    "* https://cdn.tse.jus.br/estatistica/sead/odsele/votacao_partido_munzona/votacao_partido_munzona_2016.zip\n",
    "* https://dadosabertos.tse.jus.br/dataset/resultados-2016/resource/ccd2564b-a576-4c17-a603-31e49f980667\n",
    "* https://cdn.tse.jus.br/estatistica/sead/odsele/bem_candidato/bem_candidato_2016.zip\n",
    "* https://cdn.tse.jus.br/estatistica/sead/odsele/perfil_eleitor_secao/perfil_eleitor_secao_2016_PE.zip"
   ]
  },
  {
   "cell_type": "code",
   "execution_count": 5,
   "metadata": {},
   "outputs": [],
   "source": [
    "df_bens_candidato_16 = spark.read.csv('../datasets/bem_candidato_2016_PE.csv', encoding='latin1', sep=';', header=True, inferSchema=True);\n",
    "df_perfil_16 = spark.read.csv('../datasets/perfil_eleitor_secao_2016_PE.csv', encoding='latin1', sep=';', header=True, inferSchema=True);\n",
    "df_candidato_16 = spark.read.csv('../datasets/votacao_candidato_munzona_2016_PE.csv', encoding='latin1', sep=';', header=True, inferSchema=True);\n",
    "df_partido_16 = spark.read.csv('../datasets/votacao_partido_munzona_2016_PE.csv', encoding='latin1', sep=';', header=True, inferSchema=True);\n",
    "df_secao_16 = spark.read.csv('../datasets/votacao_secao_2016_PE.csv', encoding='latin1', sep=';', header=True, inferSchema=True);"
   ]
  },
  {
   "cell_type": "code",
   "execution_count": 6,
   "metadata": {},
   "outputs": [
    {
     "name": "stdout",
     "output_type": "stream",
     "text": [
      "+----------+-------------------+-----------+---------------+-----------------+----------+--------------------+----------+-----+-----+--------------------+------------+------------------+---------------------+---------------------+--------------------+----------------+---------------------+---------------------+\n",
      "|DT_GERACAO|         HH_GERACAO|ANO_ELEICAO|CD_TIPO_ELEICAO|  NM_TIPO_ELEICAO|CD_ELEICAO|          DS_ELEICAO|DT_ELEICAO|SG_UF|SG_UE|               NM_UE|SQ_CANDIDATO|NR_ORDEM_CANDIDATO|CD_TIPO_BEM_CANDIDATO|DS_TIPO_BEM_CANDIDATO|    DS_BEM_CANDIDATO|VR_BEM_CANDIDATO|DT_ULTIMA_ATUALIZACAO|HH_ULTIMA_ATUALIZACAO|\n",
      "+----------+-------------------+-----------+---------------+-----------------+----------+--------------------+----------+-----+-----+--------------------+------------+------------------+---------------------+---------------------+--------------------+----------------+---------------------+---------------------+\n",
      "|18/02/2021|2024-06-16 12:06:52|       2016|              2|Eleição Ordinária|       220|Eleições Municipa...|02/10/2016|   PE|23574|CABO DE SANTO AGO...|170000000783|                 1|                   11|          Apartamento|APARTAMENTO SITUA...|       130000,00|           12/07/2018|  2024-06-16 16:35:42|\n",
      "|18/02/2021|2024-06-16 12:06:52|       2016|              2|Eleição Ordinária|       220|Eleições Municipa...|02/10/2016|   PE|23574|CABO DE SANTO AGO...|170000000783|                 2|                   13|              Terreno|SITUADO NO SETOR ...|        80000,00|           12/07/2018|  2024-06-16 16:35:42|\n",
      "|18/02/2021|2024-06-16 12:06:52|       2016|              2|Eleição Ordinária|       220|Eleições Municipa...|02/10/2016|   PE|23574|CABO DE SANTO AGO...|170000000783|                 3|                    2|     Prédio comercial|02 SALAS COMERCIA...|        34000,00|           12/07/2018|  2024-06-16 16:35:42|\n",
      "|18/02/2021|2024-06-16 12:06:52|       2016|              2|Eleição Ordinária|       220|Eleições Municipa...|02/10/2016|   PE|23574|CABO DE SANTO AGO...|170000000783|                 4|                   32| Quotas ou quinhõe...|PARTICIPAÇÃO EMPR...|       160000,00|           12/07/2018|  2024-06-16 16:35:42|\n",
      "|18/02/2021|2024-06-16 12:06:52|       2016|              2|Eleição Ordinária|       220|Eleições Municipa...|02/10/2016|   PE|23574|CABO DE SANTO AGO...|170000000788|                 1|                   21| Veículo automotor...|     MOTO JETE PRATA|         2000,00|           12/07/2018|  2024-06-16 16:35:42|\n",
      "|18/02/2021|2024-06-16 12:06:52|       2016|              2|Eleição Ordinária|       220|Eleições Municipa...|02/10/2016|   PE|23574|CABO DE SANTO AGO...|170000000792|                 1|                   12|                 Casa|CASA 50 MT 2 QUARTOS|        60000,00|           12/07/2018|  2024-06-16 16:35:42|\n",
      "|18/02/2021|2024-06-16 12:06:52|       2016|              2|Eleição Ordinária|       220|Eleições Municipa...|02/10/2016|   PE|23574|CABO DE SANTO AGO...|170000000797|                 1|                   21| Veículo automotor...|FORD FIESTA 1.0 A...|         8000,00|           12/07/2018|  2024-06-16 16:35:42|\n",
      "|18/02/2021|2024-06-16 12:06:52|       2016|              2|Eleição Ordinária|       220|Eleições Municipa...|02/10/2016|   PE|23574|CABO DE SANTO AGO...|170000000800|                 1|                   21| Veículo automotor...|VW KOMBI FURGÃO A...|        10000,00|           12/07/2018|  2024-06-16 16:35:42|\n",
      "|18/02/2021|2024-06-16 12:06:52|       2016|              2|Eleição Ordinária|       220|Eleições Municipa...|02/10/2016|   PE|23574|CABO DE SANTO AGO...|170000000801|                 1|                   21| Veículo automotor...|FIAT PALIO 2012 P...|        20000,00|           12/07/2018|  2024-06-16 16:35:42|\n",
      "|18/02/2021|2024-06-16 12:06:52|       2016|              2|Eleição Ordinária|       220|Eleições Municipa...|02/10/2016|   PE|23574|CABO DE SANTO AGO...|170000000803|                 1|                   21| Veículo automotor...|FORD FIESTA ANO 2005|        14000,00|           12/07/2018|  2024-06-16 16:35:42|\n",
      "+----------+-------------------+-----------+---------------+-----------------+----------+--------------------+----------+-----+-----+--------------------+------------+------------------+---------------------+---------------------+--------------------+----------------+---------------------+---------------------+\n",
      "only showing top 10 rows\n",
      "\n"
     ]
    }
   ],
   "source": [
    "df_bens_candidato_16.show(10)"
   ]
  },
  {
   "cell_type": "code",
   "execution_count": 7,
   "metadata": {},
   "outputs": [
    {
     "name": "stdout",
     "output_type": "stream",
     "text": [
      "+----------+-------------------+-----------+-----+------------+------------+---------------------+---------------------+-------+--------+----------------+---------+---------+---------------+---------------+---------------+--------------------+--------------------+--------------------+-------------------+----------------------+------------------------+--------------------------+\n",
      "|DT_GERACAO|         HH_GERACAO|ANO_ELEICAO|SG_UF|CD_MUNICIPIO|NM_MUNICIPIO|CD_MUN_SIT_BIOMETRICA|DS_MUN_SIT_BIOMETRICA|NR_ZONA|NR_SECAO|NR_LOCAL_VOTACAO|CD_GENERO|DS_GENERO|CD_ESTADO_CIVIL|DS_ESTADO_CIVIL|CD_FAIXA_ETARIA|     DS_FAIXA_ETARIA|CD_GRAU_ESCOLARIDADE|DS_GRAU_ESCOLARIDADE|QT_ELEITORES_PERFIL|QT_ELEITORES_BIOMETRIA|QT_ELEITORES_DEFICIENCIA|QT_ELEITORES_INC_NM_SOCIAL|\n",
      "+----------+-------------------+-----------+-----+------------+------------+---------------------+---------------------+-------+--------+----------------+---------+---------+---------------+---------------+---------------+--------------------+--------------------+--------------------+-------------------+----------------------+------------------------+--------------------------+\n",
      "|12/04/2021|2024-06-16 19:29:34|       2016|   PE|       25798|     SERRITA|                    0|        Sem biometria|     76|      29|            1040|        4| FEMININO|              1|       SOLTEIRO|           2124|21 a 24 anos     ...|                   7| SUPERIOR INCOMPLETO|                  2|                     0|                       0|                         0|\n",
      "|12/04/2021|2024-06-16 19:29:34|       2016|   PE|       25798|     SERRITA|                    0|        Sem biometria|     76|      29|            1040|        4| FEMININO|              1|       SOLTEIRO|           2529|25 a 29 anos     ...|                   2|        LÊ E ESCREVE|                  2|                     0|                       0|                         0|\n",
      "|12/04/2021|2024-06-16 19:29:34|       2016|   PE|       25798|     SERRITA|                    0|        Sem biometria|     76|      29|            1040|        4| FEMININO|              1|       SOLTEIRO|           4044|40 a 44 anos     ...|                   3|ENSINO FUNDAMENTA...|                  8|                     0|                       0|                         0|\n",
      "|12/04/2021|2024-06-16 19:29:34|       2016|   PE|       25798|     SERRITA|                    0|        Sem biometria|     76|      29|            1040|        4| FEMININO|              1|       SOLTEIRO|           4044|40 a 44 anos     ...|                   5|ENSINO MÉDIO INCO...|                  1|                     0|                       0|                         0|\n",
      "|12/04/2021|2024-06-16 19:29:34|       2016|   PE|       25798|     SERRITA|                    0|        Sem biometria|     76|      29|            1040|        4| FEMININO|              1|       SOLTEIRO|           4549|45 a 49 anos     ...|                   6|ENSINO MÉDIO COMP...|                  2|                     0|                       0|                         0|\n",
      "+----------+-------------------+-----------+-----+------------+------------+---------------------+---------------------+-------+--------+----------------+---------+---------+---------------+---------------+---------------+--------------------+--------------------+--------------------+-------------------+----------------------+------------------------+--------------------------+\n",
      "only showing top 5 rows\n",
      "\n"
     ]
    }
   ],
   "source": [
    "df_perfil_16.show(5)"
   ]
  },
  {
   "cell_type": "code",
   "execution_count": 8,
   "metadata": {},
   "outputs": [
    {
     "name": "stdout",
     "output_type": "stream",
     "text": [
      "+----------+-------------------+-----------+---------------+-----------------+--------+----------+--------------------+----------+--------------+-----+-----+------------+------------+------------+-------+--------+--------+------------+------------+--------------------+-------------------+-------------------+-----------------------+-----------------------+------------------------+------------------------+-------------+----------+----------+--------------------+------------+--------------------+-----------------------+----------------+----------------+-------------------+-----------------+\n",
      "|DT_GERACAO|         HH_GERACAO|ANO_ELEICAO|CD_TIPO_ELEICAO|  NM_TIPO_ELEICAO|NR_TURNO|CD_ELEICAO|          DS_ELEICAO|DT_ELEICAO|TP_ABRANGENCIA|SG_UF|SG_UE|       NM_UE|CD_MUNICIPIO|NM_MUNICIPIO|NR_ZONA|CD_CARGO|DS_CARGO|SQ_CANDIDATO|NR_CANDIDATO|        NM_CANDIDATO|  NM_URNA_CANDIDATO|NM_SOCIAL_CANDIDATO|CD_SITUACAO_CANDIDATURA|DS_SITUACAO_CANDIDATURA|CD_DETALHE_SITUACAO_CAND|DS_DETALHE_SITUACAO_CAND|TP_AGREMIACAO|NR_PARTIDO|SG_PARTIDO|          NM_PARTIDO|SQ_COLIGACAO|        NM_COLIGACAO|DS_COMPOSICAO_COLIGACAO|CD_SIT_TOT_TURNO|DS_SIT_TOT_TURNO|ST_VOTO_EM_TRANSITO|QT_VOTOS_NOMINAIS|\n",
      "+----------+-------------------+-----------+---------------+-----------------+--------+----------+--------------------+----------+--------------+-----+-----+------------+------------+------------+-------+--------+--------+------------+------------+--------------------+-------------------+-------------------+-----------------------+-----------------------+------------------------+------------------------+-------------+----------+----------+--------------------+------------+--------------------+-----------------------+----------------+----------------+-------------------+-----------------+\n",
      "|28/05/2021|2024-06-16 16:59:29|       2016|              2|Eleição Ordinária|       1|       220|ELEIÇÕES MUNICIPA...|02/10/2016|             M|   PE|26310|ABREU E LIMA|       26310|ABREU E LIMA|    119|      11|Prefeito|170000010837|          15|FLAVIO VIEIRA GAD...|     FLAVIO GADELHA|             #NULO#|                     12|                   APTO|                       2|                DEFERIDO|    Coligação|        15|      PMDB|Partido do Movime...|170000000685|PARA ABREU E LIMA...|   PT / PMDB / PSC /...|               4|      NÃO ELEITO|                  N|            15489|\n",
      "|28/05/2021|2024-06-16 16:59:29|       2016|              2|Eleição Ordinária|       1|       220|ELEIÇÕES MUNICIPA...|02/10/2016|             M|   PE|26310|ABREU E LIMA|       26310|ABREU E LIMA|    119|      11|Prefeito|170000010747|          12|KATIANA KARLA CAV...|    KATIANA GADELHA|             #NULO#|                     12|                   APTO|                       2|                DEFERIDO|    Coligação|        12|       PDT|Partido Democráti...|170000000677|COM O POVO PARA M...|   PDT / PSDB / SD /...|               4|      NÃO ELEITO|                  N|            21725|\n",
      "|28/05/2021|2024-06-16 16:59:29|       2016|              2|Eleição Ordinária|       1|       220|ELEIÇÕES MUNICIPA...|02/10/2016|             M|   PE|26310|ABREU E LIMA|       26310|ABREU E LIMA|    119|      11|Prefeito|170000016408|          40|MARCOS JOSÉ DA SILVA|    PR. MARCOS JOSÉ|             #NULO#|                     12|                   APTO|                       2|                DEFERIDO|    Coligação|        40|       PSB|Partido Socialist...|170000001040|FRENTE POPULAR DE...|   PRTB / PEN / PROS...|               1|          ELEITO|                  N|            21839|\n",
      "|28/05/2021|2024-06-16 16:59:29|       2016|              2|Eleição Ordinária|       1|       220|ELEIÇÕES MUNICIPA...|02/10/2016|             M|   PE|26310|ABREU E LIMA|       26310|ABREU E LIMA|    119|      13|Vereador|170000012004|       14100|ADRIANO SILVA DE ...|   ADRIANO BARBEIRO|             #NULO#|                     12|                   APTO|                       2|                DEFERIDO|    Coligação|        14|       PTB|Partido Trabalhis...|170000000756|  MUDANDO COM O POVO|        PTB / PTN / PTC|               4|      NÃO ELEITO|                  N|              137|\n",
      "|28/05/2021|2024-06-16 16:59:29|       2016|              2|Eleição Ordinária|       1|       220|ELEIÇÕES MUNICIPA...|02/10/2016|             M|   PE|26310|ABREU E LIMA|       26310|ABREU E LIMA|    119|      13|Vereador|170000009141|       10444|ADRIANO CORREIA D...|ADRIANO DO CARTORIO|             #NULO#|                     12|                   APTO|                       2|                DEFERIDO|    Coligação|        10|       PRB|Partido Republica...|170000000579|COM O POVO PARA M...|          PRB / PT do B|               5|        SUPLENTE|                  N|              297|\n",
      "|28/05/2021|2024-06-16 16:59:29|       2016|              2|Eleição Ordinária|       1|       220|ELEIÇÕES MUNICIPA...|02/10/2016|             M|   PE|26310|ABREU E LIMA|       26310|ABREU E LIMA|    119|      13|Vereador|170000011522|       17111| ALDY AMAURY BEZERRA|               ALDY|             #NULO#|                     12|                   APTO|                       2|                DEFERIDO|    Coligação|        17|       PSL|Partido Social Li...|170000000730|FRENTE SOCIAL LIB...|             PSL / REDE|               5|        SUPLENTE|                  N|              747|\n",
      "|28/05/2021|2024-06-16 16:59:29|       2016|              2|Eleição Ordinária|       1|       220|ELEIÇÕES MUNICIPA...|02/10/2016|             M|   PE|26310|ABREU E LIMA|       26310|ABREU E LIMA|    119|      13|Vereador|170000017376|       40888|JOZIAS APOLIANARI...|  ALEXANDRE JAPONÊS|             #NULO#|                     12|                   APTO|                       2|                DEFERIDO|    Coligação|        40|       PSB|Partido Socialist...|170000001099|FRENTE POPULAR PA...|       PSB / PRP / PRTB|               5|        SUPLENTE|                  N|              118|\n",
      "|28/05/2021|2024-06-16 16:59:29|       2016|              2|Eleição Ordinária|       1|       220|ELEIÇÕES MUNICIPA...|02/10/2016|             M|   PE|26310|ABREU E LIMA|       26310|ABREU E LIMA|    119|      13|Vereador|170000009149|       10145|JOSINALDO MATIAS ...|           AMENDOIN|             #NULO#|                     12|                   APTO|                       2|                DEFERIDO|    Coligação|        10|       PRB|Partido Republica...|170000000579|COM O POVO PARA M...|          PRB / PT do B|               5|        SUPLENTE|                  N|              124|\n",
      "|28/05/2021|2024-06-16 16:59:29|       2016|              2|Eleição Ordinária|       1|       220|ELEIÇÕES MUNICIPA...|02/10/2016|             M|   PE|26310|ABREU E LIMA|       26310|ABREU E LIMA|    119|      13|Vereador|170000022265|       40321|ANA MARIA ALMEIDA...|         ANA ARAGÃO|             #NULO#|                     12|                   APTO|                       2|                DEFERIDO|    Coligação|        40|       PSB|Partido Socialist...|170000001099|FRENTE POPULAR PA...|       PSB / PRP / PRTB|               5|        SUPLENTE|                  N|               40|\n",
      "|28/05/2021|2024-06-16 16:59:29|       2016|              2|Eleição Ordinária|       1|       220|ELEIÇÕES MUNICIPA...|02/10/2016|             M|   PE|26310|ABREU E LIMA|       26310|ABREU E LIMA|    119|      13|Vereador|170000017911|       22333|  ANA MARIA DA SILVA|          ANA MARIA|             #NULO#|                     12|                   APTO|                       2|                DEFERIDO|    Coligação|        22|        PR|Partido da República|170000001134|ABREU E LIMA DO F...|    DEM / PR / PV / PSC|               4|      NÃO ELEITO|                  N|                0|\n",
      "+----------+-------------------+-----------+---------------+-----------------+--------+----------+--------------------+----------+--------------+-----+-----+------------+------------+------------+-------+--------+--------+------------+------------+--------------------+-------------------+-------------------+-----------------------+-----------------------+------------------------+------------------------+-------------+----------+----------+--------------------+------------+--------------------+-----------------------+----------------+----------------+-------------------+-----------------+\n",
      "only showing top 10 rows\n",
      "\n"
     ]
    }
   ],
   "source": [
    "df_candidato_16.show(10)"
   ]
  },
  {
   "cell_type": "code",
   "execution_count": 9,
   "metadata": {},
   "outputs": [
    {
     "name": "stdout",
     "output_type": "stream",
     "text": [
      "+----------+-------------------+-----------+---------------+-----------------+--------+----------+--------------------+----------+--------------+-----+-----+------------+------------+------------+-------+--------+--------+-------------+----------+----------+--------------------+------------+--------------------+-----------------------+-------------------+-----------------+----------------+\n",
      "|DT_GERACAO|         HH_GERACAO|ANO_ELEICAO|CD_TIPO_ELEICAO|  NM_TIPO_ELEICAO|NR_TURNO|CD_ELEICAO|          DS_ELEICAO|DT_ELEICAO|TP_ABRANGENCIA|SG_UF|SG_UE|       NM_UE|CD_MUNICIPIO|NM_MUNICIPIO|NR_ZONA|CD_CARGO|DS_CARGO|TP_AGREMIACAO|NR_PARTIDO|SG_PARTIDO|          NM_PARTIDO|SQ_COLIGACAO|        NM_COLIGACAO|DS_COMPOSICAO_COLIGACAO|ST_VOTO_EM_TRANSITO|QT_VOTOS_NOMINAIS|QT_VOTOS_LEGENDA|\n",
      "+----------+-------------------+-----------+---------------+-----------------+--------+----------+--------------------+----------+--------------+-----+-----+------------+------------+------------+-------+--------+--------+-------------+----------+----------+--------------------+------------+--------------------+-----------------------+-------------------+-----------------+----------------+\n",
      "|28/05/2021|2024-06-16 16:58:19|       2016|              2|Eleição Ordinária|       1|       220|Eleições Municipa...|02/10/2016|             M|   PE|26310|ABREU E LIMA|       26310|ABREU E LIMA|    119|      11|Prefeito|    Coligação|        12|       PDT|Partido Democráti...|170000000677|COM O POVO PARA M...|   PDT / PSDB / SD /...|                  N|            21725|               0|\n",
      "|28/05/2021|2024-06-16 16:58:19|       2016|              2|Eleição Ordinária|       1|       220|Eleições Municipa...|02/10/2016|             M|   PE|26310|ABREU E LIMA|       26310|ABREU E LIMA|    119|      11|Prefeito|    Coligação|        40|       PSB|Partido Socialist...|170000001040|FRENTE POPULAR DE...|   PRTB / PEN / PROS...|                  N|            21839|               0|\n",
      "|28/05/2021|2024-06-16 16:58:19|       2016|              2|Eleição Ordinária|       1|       220|Eleições Municipa...|02/10/2016|             M|   PE|26310|ABREU E LIMA|       26310|ABREU E LIMA|    119|      11|Prefeito|    Coligação|        15|      PMDB|Partido do Movime...|170000000685|PARA ABREU E LIMA...|   PT / PMDB / PSC /...|                  N|            15489|               0|\n",
      "|28/05/2021|2024-06-16 16:58:19|       2016|              2|Eleição Ordinária|       1|       220|Eleições Municipa...|02/10/2016|             M|   PE|26310|ABREU E LIMA|       26310|ABREU E LIMA|    119|      13|Vereador|    Coligação|        54|       PPL|Partido Pátria Livre|170000000997|ABREU E LIMA DE T...|              PMN / PPL|                  N|              155|               4|\n",
      "|28/05/2021|2024-06-16 16:58:19|       2016|              2|Eleição Ordinária|       1|       220|Eleições Municipa...|02/10/2016|             M|   PE|26310|ABREU E LIMA|       26310|ABREU E LIMA|    119|      13|Vereador|    Coligação|        33|       PMN|Partido da Mobili...|170000000997|ABREU E LIMA DE T...|              PMN / PPL|                  N|             5300|             110|\n",
      "+----------+-------------------+-----------+---------------+-----------------+--------+----------+--------------------+----------+--------------+-----+-----+------------+------------+------------+-------+--------+--------+-------------+----------+----------+--------------------+------------+--------------------+-----------------------+-------------------+-----------------+----------------+\n",
      "only showing top 5 rows\n",
      "\n"
     ]
    }
   ],
   "source": [
    "df_partido_16.show(5)"
   ]
  },
  {
   "cell_type": "code",
   "execution_count": 10,
   "metadata": {},
   "outputs": [
    {
     "name": "stdout",
     "output_type": "stream",
     "text": [
      "+----------+-------------------+-----------+---------------+-----------------+--------+----------+--------------------+----------+--------------+-----+-----+--------------------+------------+--------------------+-------+--------+--------+--------+----------+--------------------+--------+----------------+------------+--------------------+-------------------------+\n",
      "|DT_GERACAO|         HH_GERACAO|ANO_ELEICAO|CD_TIPO_ELEICAO|  NM_TIPO_ELEICAO|NR_TURNO|CD_ELEICAO|          DS_ELEICAO|DT_ELEICAO|TP_ABRANGENCIA|SG_UF|SG_UE|               NM_UE|CD_MUNICIPIO|        NM_MUNICIPIO|NR_ZONA|NR_SECAO|CD_CARGO|DS_CARGO|NR_VOTAVEL|          NM_VOTAVEL|QT_VOTOS|NR_LOCAL_VOTACAO|SQ_CANDIDATO|    NM_LOCAL_VOTACAO|DS_LOCAL_VOTACAO_ENDERECO|\n",
      "+----------+-------------------+-----------+---------------+-----------------+--------+----------+--------------------+----------+--------------+-----+-----+--------------------+------------+--------------------+-------+--------+--------+--------+----------+--------------------+--------+----------------+------------+--------------------+-------------------------+\n",
      "|07/12/2023|2024-06-16 14:25:26|       2016|              2|ELEIÇÃO ORDINÁRIA|       1|       220|ELEIÇÕES MUNICIPA...|02/10/2016|             M|   PE|25313|              RECIFE|       25313|              RECIFE|      6|     122|      13|VEREADOR|     14123|ERIVALDO JOSÉ DE ...|       8|            1171|170000020308|ESCOLA REUNIDA SA...|     RUA VASCO DA GAMA...|\n",
      "|07/12/2023|2024-06-16 14:25:26|       2016|              2|ELEIÇÃO ORDINÁRIA|       1|       220|ELEIÇÕES MUNICIPA...|02/10/2016|             M|   PE|25313|              RECIFE|       25313|              RECIFE|      6|     254|      13|VEREADOR|     14123|ERIVALDO JOSÉ DE ...|       1|            1260|170000020308|ESCOLA JULIO VICE...|     PRACA DO MORRO DA...|\n",
      "|07/12/2023|2024-06-16 14:25:26|       2016|              2|ELEIÇÃO ORDINÁRIA|       1|       220|ELEIÇÕES MUNICIPA...|02/10/2016|             M|   PE|24570|JABOATÃO DOS GUAR...|       24570|JABOATÃO DOS GUAR...|    101|     327|      13|VEREADOR|     77444|JOSE CICERO DA SILVA|       1|            1589|170000006944|FACULDADE METROPO...|     AVENIDA BARRETO D...|\n",
      "|07/12/2023|2024-06-16 14:25:26|       2016|              2|ELEIÇÃO ORDINÁRIA|       1|       220|ELEIÇÕES MUNICIPA...|02/10/2016|             M|   PE|24350|            IGARASSU|       24350|            IGARASSU|     85|     252|      13|VEREADOR|     19601|LUIZ CAVALCANTE D...|       5|            1465|170000007877|ESCOLA MUNICIPAL ...|     RUA BELO HORIZONT...|\n",
      "|07/12/2023|2024-06-16 14:25:26|       2016|              2|ELEIÇÃO ORDINÁRIA|       1|       220|ELEIÇÕES MUNICIPA...|02/10/2016|             M|   PE|24970|            OURICURI|       24970|            OURICURI|     82|      59|      13|VEREADOR|     45111|FRANCISCO RODRIGU...|       7|            1058|170000001244|COLEGIO E CURSO A...|     PRACA VOLUNTARIOS...|\n",
      "+----------+-------------------+-----------+---------------+-----------------+--------+----------+--------------------+----------+--------------+-----+-----+--------------------+------------+--------------------+-------+--------+--------+--------+----------+--------------------+--------+----------------+------------+--------------------+-------------------------+\n",
      "only showing top 5 rows\n",
      "\n"
     ]
    }
   ],
   "source": [
    "df_secao_16.show(5)"
   ]
  }
 ],
 "metadata": {
  "kernelspec": {
   "display_name": "pe_analytics",
   "language": "python",
   "name": "python3"
  },
  "language_info": {
   "codemirror_mode": {
    "name": "ipython",
    "version": 3
   },
   "file_extension": ".py",
   "mimetype": "text/x-python",
   "name": "python",
   "nbconvert_exporter": "python",
   "pygments_lexer": "ipython3",
   "version": "3.8.19"
  }
 },
 "nbformat": 4,
 "nbformat_minor": 2
}
